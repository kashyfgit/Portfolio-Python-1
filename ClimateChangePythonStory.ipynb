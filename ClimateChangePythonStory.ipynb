{
 "cells": [
  {
   "cell_type": "markdown",
   "metadata": {
    "collapsed": true
   },
   "source": [
    "# The Relationship Between CO2 Emissions and Land Temperature"
   ]
  },
  {
   "cell_type": "markdown",
   "metadata": {
    "collapsed": true
   },
   "source": [
    "Think about your morning today. How many times did you utilize electricity? Did you plug in your coffee maker after turning on the lights and heating up leftovers in the microwave? On your daily commute, did you ride in a train or ride in a car? Did you pass by \n",
    "a plot of land that was once a field full of trees?\n",
    "\n",
    "The burning of fossil fuels to generate electricty and to power trains, cars, and boats releases CO2 into the air.Trees can absorb the CO2 from the air,\n",
    "but not when they are cut down.\n",
    "\n",
    "According the US Environmental Protection Agency, 80% of greenhouse gases in the United States come from CO2.These greenhouse gases\n",
    "prevent solar energy from being released into the atmosphere.\n",
    "\n",
    "Although the topic of climate change can stir up a political debate, I have no intention of doing so. I simply desire to analyze the data just as I would for a project covering any other topic.\n",
    "My objective is to answer the following question: is there a relationship between CO2 Emissions and Global Temperature?"
   ]
  },
  {
   "cell_type": "markdown",
   "metadata": {},
   "source": [
    "## The Data\n"
   ]
  },
  {
   "cell_type": "markdown",
   "metadata": {},
   "source": [
    "To conduct the analysis, I access two datasets from Kaggle.\n",
    "The first dataset is the \"Global Temperature\" dataset from the Earth Surface Temperature Data collection on Kaggle. The dataset \n",
    "provides monthly records of average temperatures (in degrees Celsius) since 1750.\n",
    "\n",
    "The second dataset is \"Carbon Dioxide Levels in the Atmosphere.\" It provides monthly records of atmospheric CO2 levels collected at the Mauna Loa Observatory since 1958. The observatory is in a remote location in Hawaii where air is representatitve of the Earth's atmosphere.\n",
    "\n"
   ]
  },
  {
   "cell_type": "markdown",
   "metadata": {},
   "source": [
    "First, I download the necessary packages."
   ]
  },
  {
   "cell_type": "code",
   "execution_count": 687,
   "metadata": {
    "collapsed": true
   },
   "outputs": [],
   "source": [
    "import pandas as pd\n",
    "import numpy as np\n",
    "import matplotlib.pyplot as plt"
   ]
  },
  {
   "cell_type": "markdown",
   "metadata": {},
   "source": [
    "Next, I load the necessary datasets. The first dataset is the Global Temperatures dataset. The next dataset is the CO2 Emissions dataset. \n"
   ]
  },
  {
   "cell_type": "code",
   "execution_count": 688,
   "metadata": {
    "collapsed": true
   },
   "outputs": [],
   "source": [
    "with open('../../../datasets/TempData/GlobalTemperatures.csv') as file:\n",
    "    df_temp=pd.read_csv(file)\n",
    "\n",
    "with open('../../../datasets/TempData/archive.csv') as file:\n",
    "    df_poll=pd.read_csv(file)\n",
    "\n"
   ]
  },
  {
   "cell_type": "markdown",
   "metadata": {},
   "source": [
    "## Vetting Data Sources"
   ]
  },
  {
   "cell_type": "markdown",
   "metadata": {},
   "source": [
    "The Globabl Temperatures dataset is provided by Berkeley Earth, which is affiliated with Lawrence Berkely National Laboratory.\n",
    "It is a compilaton of over 1.6 billion temperature reports from 16 archives.\n",
    "\n",
    "The CO2 Emissions dataset was published by the\n",
    "University of California's Scripps Institution of Oceanography with support from the US Department of Energy, Earth Networks, and the National Science Foundation."
   ]
  },
  {
   "cell_type": "markdown",
   "metadata": {},
   "source": [
    "## Data Analysis"
   ]
  },
  {
   "cell_type": "markdown",
   "metadata": {},
   "source": [
    "First, I check out the Global Temperatures dataset."
   ]
  },
  {
   "cell_type": "code",
   "execution_count": 689,
   "metadata": {},
   "outputs": [
    {
     "data": {
      "text/html": [
       "<div>\n",
       "<style>\n",
       "    .dataframe thead tr:only-child th {\n",
       "        text-align: right;\n",
       "    }\n",
       "\n",
       "    .dataframe thead th {\n",
       "        text-align: left;\n",
       "    }\n",
       "\n",
       "    .dataframe tbody tr th {\n",
       "        vertical-align: top;\n",
       "    }\n",
       "</style>\n",
       "<table border=\"1\" class=\"dataframe\">\n",
       "  <thead>\n",
       "    <tr style=\"text-align: right;\">\n",
       "      <th></th>\n",
       "      <th>dt</th>\n",
       "      <th>Year</th>\n",
       "      <th>LandAverageTemperature</th>\n",
       "      <th>LandAverageTemperatureUncertainty</th>\n",
       "      <th>Unnamed: 4</th>\n",
       "      <th>Unnamed: 5</th>\n",
       "      <th>Unnamed: 6</th>\n",
       "      <th>Unnamed: 7</th>\n",
       "      <th>Unnamed: 8</th>\n",
       "    </tr>\n",
       "  </thead>\n",
       "  <tbody>\n",
       "    <tr>\n",
       "      <th>0</th>\n",
       "      <td>1750-01-01</td>\n",
       "      <td>1750</td>\n",
       "      <td>3.034</td>\n",
       "      <td>3.574</td>\n",
       "      <td>NaN</td>\n",
       "      <td>NaN</td>\n",
       "      <td>NaN</td>\n",
       "      <td>NaN</td>\n",
       "      <td>NaN</td>\n",
       "    </tr>\n",
       "    <tr>\n",
       "      <th>1</th>\n",
       "      <td>1750-02-01</td>\n",
       "      <td>1750</td>\n",
       "      <td>3.083</td>\n",
       "      <td>3.702</td>\n",
       "      <td>NaN</td>\n",
       "      <td>NaN</td>\n",
       "      <td>NaN</td>\n",
       "      <td>NaN</td>\n",
       "      <td>NaN</td>\n",
       "    </tr>\n",
       "    <tr>\n",
       "      <th>2</th>\n",
       "      <td>1750-03-01</td>\n",
       "      <td>1750</td>\n",
       "      <td>5.626</td>\n",
       "      <td>3.076</td>\n",
       "      <td>NaN</td>\n",
       "      <td>NaN</td>\n",
       "      <td>NaN</td>\n",
       "      <td>#NAME?</td>\n",
       "      <td>NaN</td>\n",
       "    </tr>\n",
       "    <tr>\n",
       "      <th>3</th>\n",
       "      <td>1750-04-01</td>\n",
       "      <td>1750</td>\n",
       "      <td>8.490</td>\n",
       "      <td>2.451</td>\n",
       "      <td>NaN</td>\n",
       "      <td>NaN</td>\n",
       "      <td>NaN</td>\n",
       "      <td>#NAME?</td>\n",
       "      <td>NaN</td>\n",
       "    </tr>\n",
       "    <tr>\n",
       "      <th>4</th>\n",
       "      <td>1750-05-01</td>\n",
       "      <td>1750</td>\n",
       "      <td>11.573</td>\n",
       "      <td>2.072</td>\n",
       "      <td>NaN</td>\n",
       "      <td>NaN</td>\n",
       "      <td>NaN</td>\n",
       "      <td>8.719363636</td>\n",
       "      <td>NaN</td>\n",
       "    </tr>\n",
       "  </tbody>\n",
       "</table>\n",
       "</div>"
      ],
      "text/plain": [
       "           dt  Year  LandAverageTemperature  \\\n",
       "0  1750-01-01  1750                   3.034   \n",
       "1  1750-02-01  1750                   3.083   \n",
       "2  1750-03-01  1750                   5.626   \n",
       "3  1750-04-01  1750                   8.490   \n",
       "4  1750-05-01  1750                  11.573   \n",
       "\n",
       "   LandAverageTemperatureUncertainty  Unnamed: 4  Unnamed: 5  Unnamed: 6  \\\n",
       "0                              3.574         NaN         NaN         NaN   \n",
       "1                              3.702         NaN         NaN         NaN   \n",
       "2                              3.076         NaN         NaN         NaN   \n",
       "3                              2.451         NaN         NaN         NaN   \n",
       "4                              2.072         NaN         NaN         NaN   \n",
       "\n",
       "    Unnamed: 7  Unnamed: 8  \n",
       "0          NaN         NaN  \n",
       "1          NaN         NaN  \n",
       "2       #NAME?         NaN  \n",
       "3       #NAME?         NaN  \n",
       "4  8.719363636         NaN  "
      ]
     },
     "execution_count": 689,
     "metadata": {},
     "output_type": "execute_result"
    }
   ],
   "source": [
    "df_temp.head()"
   ]
  },
  {
   "cell_type": "code",
   "execution_count": 690,
   "metadata": {},
   "outputs": [
    {
     "data": {
      "text/plain": [
       "dtype('O')"
      ]
     },
     "execution_count": 690,
     "metadata": {},
     "output_type": "execute_result"
    }
   ],
   "source": [
    "df_temp['dt'].dtype"
   ]
  },
  {
   "cell_type": "markdown",
   "metadata": {},
   "source": [
    "The dt column shows the Year, Month, and Day of the record. \n",
    "I need to convert it to a date format."
   ]
  },
  {
   "cell_type": "code",
   "execution_count": 691,
   "metadata": {},
   "outputs": [
    {
     "data": {
      "text/plain": [
       "dtype('<M8[ns]')"
      ]
     },
     "execution_count": 691,
     "metadata": {},
     "output_type": "execute_result"
    }
   ],
   "source": [
    "df_temp['dt']=pd.to_datetime(df_temp['dt'])\n",
    "df_temp.dt.dtype"
   ]
  },
  {
   "cell_type": "markdown",
   "metadata": {},
   "source": [
    "Next, I want to identify the mean Land Average Temperature for each year. "
   ]
  },
  {
   "cell_type": "code",
   "execution_count": 692,
   "metadata": {},
   "outputs": [
    {
     "data": {
      "text/html": [
       "<div>\n",
       "<style>\n",
       "    .dataframe thead tr:only-child th {\n",
       "        text-align: right;\n",
       "    }\n",
       "\n",
       "    .dataframe thead th {\n",
       "        text-align: left;\n",
       "    }\n",
       "\n",
       "    .dataframe tbody tr th {\n",
       "        vertical-align: top;\n",
       "    }\n",
       "</style>\n",
       "<table border=\"1\" class=\"dataframe\">\n",
       "  <thead>\n",
       "    <tr style=\"text-align: right;\">\n",
       "      <th></th>\n",
       "      <th>dt</th>\n",
       "      <th>Year</th>\n",
       "      <th>LandAverageTemperature</th>\n",
       "      <th>LandAverageTemperatureUncertainty</th>\n",
       "      <th>Unnamed: 4</th>\n",
       "      <th>Unnamed: 5</th>\n",
       "      <th>Unnamed: 6</th>\n",
       "      <th>Unnamed: 7</th>\n",
       "      <th>Unnamed: 8</th>\n",
       "      <th>mean_temp</th>\n",
       "    </tr>\n",
       "  </thead>\n",
       "  <tbody>\n",
       "    <tr>\n",
       "      <th>0</th>\n",
       "      <td>1750-01-01</td>\n",
       "      <td>1750</td>\n",
       "      <td>3.034</td>\n",
       "      <td>3.574</td>\n",
       "      <td>NaN</td>\n",
       "      <td>NaN</td>\n",
       "      <td>NaN</td>\n",
       "      <td>NaN</td>\n",
       "      <td>NaN</td>\n",
       "      <td>8.719364</td>\n",
       "    </tr>\n",
       "    <tr>\n",
       "      <th>1</th>\n",
       "      <td>1750-02-01</td>\n",
       "      <td>1750</td>\n",
       "      <td>3.083</td>\n",
       "      <td>3.702</td>\n",
       "      <td>NaN</td>\n",
       "      <td>NaN</td>\n",
       "      <td>NaN</td>\n",
       "      <td>NaN</td>\n",
       "      <td>NaN</td>\n",
       "      <td>8.719364</td>\n",
       "    </tr>\n",
       "    <tr>\n",
       "      <th>2</th>\n",
       "      <td>1750-03-01</td>\n",
       "      <td>1750</td>\n",
       "      <td>5.626</td>\n",
       "      <td>3.076</td>\n",
       "      <td>NaN</td>\n",
       "      <td>NaN</td>\n",
       "      <td>NaN</td>\n",
       "      <td>#NAME?</td>\n",
       "      <td>NaN</td>\n",
       "      <td>8.719364</td>\n",
       "    </tr>\n",
       "    <tr>\n",
       "      <th>3</th>\n",
       "      <td>1750-04-01</td>\n",
       "      <td>1750</td>\n",
       "      <td>8.490</td>\n",
       "      <td>2.451</td>\n",
       "      <td>NaN</td>\n",
       "      <td>NaN</td>\n",
       "      <td>NaN</td>\n",
       "      <td>#NAME?</td>\n",
       "      <td>NaN</td>\n",
       "      <td>8.719364</td>\n",
       "    </tr>\n",
       "    <tr>\n",
       "      <th>4</th>\n",
       "      <td>1750-05-01</td>\n",
       "      <td>1750</td>\n",
       "      <td>11.573</td>\n",
       "      <td>2.072</td>\n",
       "      <td>NaN</td>\n",
       "      <td>NaN</td>\n",
       "      <td>NaN</td>\n",
       "      <td>8.719363636</td>\n",
       "      <td>NaN</td>\n",
       "      <td>8.719364</td>\n",
       "    </tr>\n",
       "  </tbody>\n",
       "</table>\n",
       "</div>"
      ],
      "text/plain": [
       "          dt  Year  LandAverageTemperature  LandAverageTemperatureUncertainty  \\\n",
       "0 1750-01-01  1750                   3.034                              3.574   \n",
       "1 1750-02-01  1750                   3.083                              3.702   \n",
       "2 1750-03-01  1750                   5.626                              3.076   \n",
       "3 1750-04-01  1750                   8.490                              2.451   \n",
       "4 1750-05-01  1750                  11.573                              2.072   \n",
       "\n",
       "   Unnamed: 4  Unnamed: 5  Unnamed: 6   Unnamed: 7  Unnamed: 8  mean_temp  \n",
       "0         NaN         NaN         NaN          NaN         NaN   8.719364  \n",
       "1         NaN         NaN         NaN          NaN         NaN   8.719364  \n",
       "2         NaN         NaN         NaN       #NAME?         NaN   8.719364  \n",
       "3         NaN         NaN         NaN       #NAME?         NaN   8.719364  \n",
       "4         NaN         NaN         NaN  8.719363636         NaN   8.719364  "
      ]
     },
     "execution_count": 692,
     "metadata": {},
     "output_type": "execute_result"
    }
   ],
   "source": [
    "df_temp['mean_temp'] = df_temp.groupby('Year').LandAverageTemperature.transform(np.mean)\n",
    "df_temp.head()"
   ]
  },
  {
   "cell_type": "markdown",
   "metadata": {},
   "source": [
    "I then drop unecessary columns that are empty. "
   ]
  },
  {
   "cell_type": "code",
   "execution_count": 693,
   "metadata": {
    "collapsed": true
   },
   "outputs": [],
   "source": [
    "df_temp=df_temp.drop(df_temp.columns[[4,5,6]],axis=1)"
   ]
  },
  {
   "cell_type": "markdown",
   "metadata": {},
   "source": [
    "Now I need to checkout the CO2 Emissions Dataset."
   ]
  },
  {
   "cell_type": "code",
   "execution_count": 694,
   "metadata": {},
   "outputs": [
    {
     "name": "stdout",
     "output_type": "stream",
     "text": [
      "   Year  Month  Decimal Date  Carbon Dioxide (ppm)  \\\n",
      "0  1958      1     1958.0411                   NaN   \n",
      "1  1958      2     1958.1260                   NaN   \n",
      "2  1958      3     1958.2027                315.69   \n",
      "3  1958      4     1958.2877                317.45   \n",
      "4  1958      5     1958.3699                317.50   \n",
      "\n",
      "   Seasonally Adjusted CO2 (ppm)  Carbon Dioxide Fit (ppm)  \\\n",
      "0                            NaN                       NaN   \n",
      "1                            NaN                       NaN   \n",
      "2                         314.42                    316.18   \n",
      "3                         315.15                    317.30   \n",
      "4                         314.73                    317.83   \n",
      "\n",
      "   Seasonally Adjusted CO2 Fit (ppm)  \n",
      "0                                NaN  \n",
      "1                                NaN  \n",
      "2                             314.89  \n",
      "3                             314.98  \n",
      "4                             315.06  \n"
     ]
    },
    {
     "data": {
      "text/plain": [
       "Index(['Year', 'Month', 'Decimal Date', 'Carbon Dioxide (ppm)',\n",
       "       'Seasonally Adjusted CO2 (ppm)', 'Carbon Dioxide Fit (ppm)',\n",
       "       'Seasonally Adjusted CO2 Fit (ppm)'],\n",
       "      dtype='object')"
      ]
     },
     "execution_count": 694,
     "metadata": {},
     "output_type": "execute_result"
    }
   ],
   "source": [
    "print(df_poll.head())\n",
    "df_poll.columns"
   ]
  },
  {
   "cell_type": "markdown",
   "metadata": {},
   "source": [
    "I rename the \"Seasonally Adjusted CO2 Fit (ppm)\" column  as \"Emissions\" for ease of coding. I utilize this column, as it has noise removed (generated from a \"stiff cubic spline function plus 4-harmonic functions with linear gain\", as described by Mauna Luna Observatory, which provided the dataset). It also has the seasonal cycle removed."
   ]
  },
  {
   "cell_type": "code",
   "execution_count": 695,
   "metadata": {
    "collapsed": true
   },
   "outputs": [],
   "source": [
    "df_poll['Emissions']=df_poll['Seasonally Adjusted CO2 Fit (ppm)']"
   ]
  },
  {
   "cell_type": "markdown",
   "metadata": {},
   "source": [
    "Next, I identify the average amount of CO2 Emissions for each year. "
   ]
  },
  {
   "cell_type": "code",
   "execution_count": 696,
   "metadata": {
    "collapsed": true
   },
   "outputs": [],
   "source": [
    "df_poll['meanEmissions'] = df_poll.groupby('Year').Emissions.transform(np.mean)"
   ]
  },
  {
   "cell_type": "code",
   "execution_count": 697,
   "metadata": {},
   "outputs": [
    {
     "data": {
      "text/html": [
       "<div>\n",
       "<style>\n",
       "    .dataframe thead tr:only-child th {\n",
       "        text-align: right;\n",
       "    }\n",
       "\n",
       "    .dataframe thead th {\n",
       "        text-align: left;\n",
       "    }\n",
       "\n",
       "    .dataframe tbody tr th {\n",
       "        vertical-align: top;\n",
       "    }\n",
       "</style>\n",
       "<table border=\"1\" class=\"dataframe\">\n",
       "  <thead>\n",
       "    <tr style=\"text-align: right;\">\n",
       "      <th></th>\n",
       "      <th>Year</th>\n",
       "      <th>Month</th>\n",
       "      <th>Decimal Date</th>\n",
       "      <th>Carbon Dioxide (ppm)</th>\n",
       "      <th>Seasonally Adjusted CO2 (ppm)</th>\n",
       "      <th>Carbon Dioxide Fit (ppm)</th>\n",
       "      <th>Seasonally Adjusted CO2 Fit (ppm)</th>\n",
       "      <th>Emissions</th>\n",
       "      <th>meanEmissions</th>\n",
       "    </tr>\n",
       "  </thead>\n",
       "  <tbody>\n",
       "    <tr>\n",
       "      <th>0</th>\n",
       "      <td>1958</td>\n",
       "      <td>1</td>\n",
       "      <td>1958.0411</td>\n",
       "      <td>NaN</td>\n",
       "      <td>NaN</td>\n",
       "      <td>NaN</td>\n",
       "      <td>NaN</td>\n",
       "      <td>NaN</td>\n",
       "      <td>315.229</td>\n",
       "    </tr>\n",
       "    <tr>\n",
       "      <th>1</th>\n",
       "      <td>1958</td>\n",
       "      <td>2</td>\n",
       "      <td>1958.1260</td>\n",
       "      <td>NaN</td>\n",
       "      <td>NaN</td>\n",
       "      <td>NaN</td>\n",
       "      <td>NaN</td>\n",
       "      <td>NaN</td>\n",
       "      <td>315.229</td>\n",
       "    </tr>\n",
       "    <tr>\n",
       "      <th>2</th>\n",
       "      <td>1958</td>\n",
       "      <td>3</td>\n",
       "      <td>1958.2027</td>\n",
       "      <td>315.69</td>\n",
       "      <td>314.42</td>\n",
       "      <td>316.18</td>\n",
       "      <td>314.89</td>\n",
       "      <td>314.89</td>\n",
       "      <td>315.229</td>\n",
       "    </tr>\n",
       "    <tr>\n",
       "      <th>3</th>\n",
       "      <td>1958</td>\n",
       "      <td>4</td>\n",
       "      <td>1958.2877</td>\n",
       "      <td>317.45</td>\n",
       "      <td>315.15</td>\n",
       "      <td>317.30</td>\n",
       "      <td>314.98</td>\n",
       "      <td>314.98</td>\n",
       "      <td>315.229</td>\n",
       "    </tr>\n",
       "    <tr>\n",
       "      <th>4</th>\n",
       "      <td>1958</td>\n",
       "      <td>5</td>\n",
       "      <td>1958.3699</td>\n",
       "      <td>317.50</td>\n",
       "      <td>314.73</td>\n",
       "      <td>317.83</td>\n",
       "      <td>315.06</td>\n",
       "      <td>315.06</td>\n",
       "      <td>315.229</td>\n",
       "    </tr>\n",
       "  </tbody>\n",
       "</table>\n",
       "</div>"
      ],
      "text/plain": [
       "   Year  Month  Decimal Date  Carbon Dioxide (ppm)  \\\n",
       "0  1958      1     1958.0411                   NaN   \n",
       "1  1958      2     1958.1260                   NaN   \n",
       "2  1958      3     1958.2027                315.69   \n",
       "3  1958      4     1958.2877                317.45   \n",
       "4  1958      5     1958.3699                317.50   \n",
       "\n",
       "   Seasonally Adjusted CO2 (ppm)  Carbon Dioxide Fit (ppm)  \\\n",
       "0                            NaN                       NaN   \n",
       "1                            NaN                       NaN   \n",
       "2                         314.42                    316.18   \n",
       "3                         315.15                    317.30   \n",
       "4                         314.73                    317.83   \n",
       "\n",
       "   Seasonally Adjusted CO2 Fit (ppm)  Emissions  meanEmissions  \n",
       "0                                NaN        NaN        315.229  \n",
       "1                                NaN        NaN        315.229  \n",
       "2                             314.89     314.89        315.229  \n",
       "3                             314.98     314.98        315.229  \n",
       "4                             315.06     315.06        315.229  "
      ]
     },
     "execution_count": 697,
     "metadata": {},
     "output_type": "execute_result"
    }
   ],
   "source": [
    "df_poll.head()"
   ]
  },
  {
   "cell_type": "markdown",
   "metadata": {},
   "source": [
    "For the CO2 Emissions data, the Month and Year are in separate columns. I need\n",
    "to combine them into one date column similar to the date column in the\n",
    "Global Temperature dataset. First, I have to make sure months with one digit have \n",
    "a 0 in front."
   ]
  },
  {
   "cell_type": "code",
   "execution_count": 698,
   "metadata": {},
   "outputs": [
    {
     "data": {
      "text/html": [
       "<div>\n",
       "<style>\n",
       "    .dataframe thead tr:only-child th {\n",
       "        text-align: right;\n",
       "    }\n",
       "\n",
       "    .dataframe thead th {\n",
       "        text-align: left;\n",
       "    }\n",
       "\n",
       "    .dataframe tbody tr th {\n",
       "        vertical-align: top;\n",
       "    }\n",
       "</style>\n",
       "<table border=\"1\" class=\"dataframe\">\n",
       "  <thead>\n",
       "    <tr style=\"text-align: right;\">\n",
       "      <th></th>\n",
       "      <th>Year</th>\n",
       "      <th>Month</th>\n",
       "      <th>Decimal Date</th>\n",
       "      <th>Carbon Dioxide (ppm)</th>\n",
       "      <th>Seasonally Adjusted CO2 (ppm)</th>\n",
       "      <th>Carbon Dioxide Fit (ppm)</th>\n",
       "      <th>Seasonally Adjusted CO2 Fit (ppm)</th>\n",
       "      <th>Emissions</th>\n",
       "      <th>meanEmissions</th>\n",
       "    </tr>\n",
       "  </thead>\n",
       "  <tbody>\n",
       "    <tr>\n",
       "      <th>0</th>\n",
       "      <td>1958</td>\n",
       "      <td>01</td>\n",
       "      <td>1958.0411</td>\n",
       "      <td>NaN</td>\n",
       "      <td>NaN</td>\n",
       "      <td>NaN</td>\n",
       "      <td>NaN</td>\n",
       "      <td>NaN</td>\n",
       "      <td>315.229</td>\n",
       "    </tr>\n",
       "    <tr>\n",
       "      <th>1</th>\n",
       "      <td>1958</td>\n",
       "      <td>02</td>\n",
       "      <td>1958.1260</td>\n",
       "      <td>NaN</td>\n",
       "      <td>NaN</td>\n",
       "      <td>NaN</td>\n",
       "      <td>NaN</td>\n",
       "      <td>NaN</td>\n",
       "      <td>315.229</td>\n",
       "    </tr>\n",
       "    <tr>\n",
       "      <th>2</th>\n",
       "      <td>1958</td>\n",
       "      <td>03</td>\n",
       "      <td>1958.2027</td>\n",
       "      <td>315.69</td>\n",
       "      <td>314.42</td>\n",
       "      <td>316.18</td>\n",
       "      <td>314.89</td>\n",
       "      <td>314.89</td>\n",
       "      <td>315.229</td>\n",
       "    </tr>\n",
       "    <tr>\n",
       "      <th>3</th>\n",
       "      <td>1958</td>\n",
       "      <td>04</td>\n",
       "      <td>1958.2877</td>\n",
       "      <td>317.45</td>\n",
       "      <td>315.15</td>\n",
       "      <td>317.30</td>\n",
       "      <td>314.98</td>\n",
       "      <td>314.98</td>\n",
       "      <td>315.229</td>\n",
       "    </tr>\n",
       "    <tr>\n",
       "      <th>4</th>\n",
       "      <td>1958</td>\n",
       "      <td>05</td>\n",
       "      <td>1958.3699</td>\n",
       "      <td>317.50</td>\n",
       "      <td>314.73</td>\n",
       "      <td>317.83</td>\n",
       "      <td>315.06</td>\n",
       "      <td>315.06</td>\n",
       "      <td>315.229</td>\n",
       "    </tr>\n",
       "  </tbody>\n",
       "</table>\n",
       "</div>"
      ],
      "text/plain": [
       "   Year Month  Decimal Date  Carbon Dioxide (ppm)  \\\n",
       "0  1958    01     1958.0411                   NaN   \n",
       "1  1958    02     1958.1260                   NaN   \n",
       "2  1958    03     1958.2027                315.69   \n",
       "3  1958    04     1958.2877                317.45   \n",
       "4  1958    05     1958.3699                317.50   \n",
       "\n",
       "   Seasonally Adjusted CO2 (ppm)  Carbon Dioxide Fit (ppm)  \\\n",
       "0                            NaN                       NaN   \n",
       "1                            NaN                       NaN   \n",
       "2                         314.42                    316.18   \n",
       "3                         315.15                    317.30   \n",
       "4                         314.73                    317.83   \n",
       "\n",
       "   Seasonally Adjusted CO2 Fit (ppm)  Emissions  meanEmissions  \n",
       "0                                NaN        NaN        315.229  \n",
       "1                                NaN        NaN        315.229  \n",
       "2                             314.89     314.89        315.229  \n",
       "3                             314.98     314.98        315.229  \n",
       "4                             315.06     315.06        315.229  "
      ]
     },
     "execution_count": 698,
     "metadata": {},
     "output_type": "execute_result"
    }
   ],
   "source": [
    "new_list=[]\n",
    "for i in df_poll.Month:\n",
    "    new_list.append(\"{:02}\".format(i))\n",
    "    \n",
    "df_poll.Month=new_list\n",
    "df_poll.head()"
   ]
  },
  {
   "cell_type": "markdown",
   "metadata": {},
   "source": [
    "Before I combine the Month and Year columns, I only want one record per year. I will only keep one month per year in the CO2 Emissions data set so that when I inner join it with the Global Temperature data set, the resulting dataset will have one record per year. Since\n",
    "I averaged the temperature values and CO2 Emissions values for each year, it doesn't matter which month I choose."
   ]
  },
  {
   "cell_type": "code",
   "execution_count": 699,
   "metadata": {
    "collapsed": true
   },
   "outputs": [],
   "source": [
    "df_poll=df_poll[df_poll['Month']=='08']\n"
   ]
  },
  {
   "cell_type": "code",
   "execution_count": 700,
   "metadata": {},
   "outputs": [
    {
     "data": {
      "text/html": [
       "<div>\n",
       "<style>\n",
       "    .dataframe thead tr:only-child th {\n",
       "        text-align: right;\n",
       "    }\n",
       "\n",
       "    .dataframe thead th {\n",
       "        text-align: left;\n",
       "    }\n",
       "\n",
       "    .dataframe tbody tr th {\n",
       "        vertical-align: top;\n",
       "    }\n",
       "</style>\n",
       "<table border=\"1\" class=\"dataframe\">\n",
       "  <thead>\n",
       "    <tr style=\"text-align: right;\">\n",
       "      <th></th>\n",
       "      <th>Year</th>\n",
       "      <th>Month</th>\n",
       "      <th>Decimal Date</th>\n",
       "      <th>Carbon Dioxide (ppm)</th>\n",
       "      <th>Seasonally Adjusted CO2 (ppm)</th>\n",
       "      <th>Carbon Dioxide Fit (ppm)</th>\n",
       "      <th>Seasonally Adjusted CO2 Fit (ppm)</th>\n",
       "      <th>Emissions</th>\n",
       "      <th>meanEmissions</th>\n",
       "    </tr>\n",
       "  </thead>\n",
       "  <tbody>\n",
       "    <tr>\n",
       "      <th>7</th>\n",
       "      <td>1958</td>\n",
       "      <td>08</td>\n",
       "      <td>1958.6219</td>\n",
       "      <td>314.93</td>\n",
       "      <td>316.17</td>\n",
       "      <td>314.01</td>\n",
       "      <td>315.29</td>\n",
       "      <td>315.29</td>\n",
       "      <td>315.229000</td>\n",
       "    </tr>\n",
       "    <tr>\n",
       "      <th>19</th>\n",
       "      <td>1959</td>\n",
       "      <td>08</td>\n",
       "      <td>1959.6219</td>\n",
       "      <td>314.80</td>\n",
       "      <td>316.04</td>\n",
       "      <td>314.84</td>\n",
       "      <td>316.12</td>\n",
       "      <td>316.12</td>\n",
       "      <td>315.994167</td>\n",
       "    </tr>\n",
       "    <tr>\n",
       "      <th>31</th>\n",
       "      <td>1960</td>\n",
       "      <td>08</td>\n",
       "      <td>1960.6230</td>\n",
       "      <td>315.90</td>\n",
       "      <td>317.18</td>\n",
       "      <td>315.71</td>\n",
       "      <td>317.01</td>\n",
       "      <td>317.01</td>\n",
       "      <td>316.905000</td>\n",
       "    </tr>\n",
       "    <tr>\n",
       "      <th>43</th>\n",
       "      <td>1961</td>\n",
       "      <td>08</td>\n",
       "      <td>1961.6219</td>\n",
       "      <td>316.79</td>\n",
       "      <td>318.05</td>\n",
       "      <td>316.47</td>\n",
       "      <td>317.76</td>\n",
       "      <td>317.76</td>\n",
       "      <td>317.625000</td>\n",
       "    </tr>\n",
       "    <tr>\n",
       "      <th>55</th>\n",
       "      <td>1962</td>\n",
       "      <td>08</td>\n",
       "      <td>1962.6219</td>\n",
       "      <td>317.40</td>\n",
       "      <td>318.66</td>\n",
       "      <td>317.26</td>\n",
       "      <td>318.55</td>\n",
       "      <td>318.55</td>\n",
       "      <td>318.450000</td>\n",
       "    </tr>\n",
       "  </tbody>\n",
       "</table>\n",
       "</div>"
      ],
      "text/plain": [
       "    Year Month  Decimal Date  Carbon Dioxide (ppm)  \\\n",
       "7   1958    08     1958.6219                314.93   \n",
       "19  1959    08     1959.6219                314.80   \n",
       "31  1960    08     1960.6230                315.90   \n",
       "43  1961    08     1961.6219                316.79   \n",
       "55  1962    08     1962.6219                317.40   \n",
       "\n",
       "    Seasonally Adjusted CO2 (ppm)  Carbon Dioxide Fit (ppm)  \\\n",
       "7                          316.17                    314.01   \n",
       "19                         316.04                    314.84   \n",
       "31                         317.18                    315.71   \n",
       "43                         318.05                    316.47   \n",
       "55                         318.66                    317.26   \n",
       "\n",
       "    Seasonally Adjusted CO2 Fit (ppm)  Emissions  meanEmissions  \n",
       "7                              315.29     315.29     315.229000  \n",
       "19                             316.12     316.12     315.994167  \n",
       "31                             317.01     317.01     316.905000  \n",
       "43                             317.76     317.76     317.625000  \n",
       "55                             318.55     318.55     318.450000  "
      ]
     },
     "execution_count": 700,
     "metadata": {},
     "output_type": "execute_result"
    }
   ],
   "source": [
    "df_poll.head()"
   ]
  },
  {
   "cell_type": "markdown",
   "metadata": {},
   "source": [
    "Now, I will combine the Month and Year columns into a 'dt' column for the CO2 Emissions dataset."
   ]
  },
  {
   "cell_type": "code",
   "execution_count": 701,
   "metadata": {
    "collapsed": true
   },
   "outputs": [],
   "source": [
    "df_poll['Month']=df_poll.Month.astype(str)"
   ]
  },
  {
   "cell_type": "code",
   "execution_count": 702,
   "metadata": {
    "collapsed": true
   },
   "outputs": [],
   "source": [
    "df_poll['Year']=df_poll.Year.astype(str)"
   ]
  },
  {
   "cell_type": "code",
   "execution_count": 703,
   "metadata": {},
   "outputs": [
    {
     "data": {
      "text/plain": [
       "dtype('<M8[ns]')"
      ]
     },
     "execution_count": 703,
     "metadata": {},
     "output_type": "execute_result"
    }
   ],
   "source": [
    "df_poll['dt']=df_poll['Year']+'-'+df_poll['Month']+'-'+'01'\n",
    "df_poll['dt']=pd.to_datetime(df_poll['dt'])\n",
    "df_poll.head()\n",
    "df_poll.dt.dtype"
   ]
  },
  {
   "cell_type": "markdown",
   "metadata": {},
   "source": [
    "I labeled the new column 'dt'..take a look at it here and see that it combined the \n",
    "Year, Month, and an added '01' value to represent the day (and hence make it comparable to \n",
    "                                                          the dt values in the Global \n",
    "                                                          Temperatures datase.)"
   ]
  },
  {
   "cell_type": "code",
   "execution_count": 704,
   "metadata": {},
   "outputs": [
    {
     "data": {
      "text/html": [
       "<div>\n",
       "<style>\n",
       "    .dataframe thead tr:only-child th {\n",
       "        text-align: right;\n",
       "    }\n",
       "\n",
       "    .dataframe thead th {\n",
       "        text-align: left;\n",
       "    }\n",
       "\n",
       "    .dataframe tbody tr th {\n",
       "        vertical-align: top;\n",
       "    }\n",
       "</style>\n",
       "<table border=\"1\" class=\"dataframe\">\n",
       "  <thead>\n",
       "    <tr style=\"text-align: right;\">\n",
       "      <th></th>\n",
       "      <th>dt</th>\n",
       "      <th>Year</th>\n",
       "      <th>LandAverageTemperature</th>\n",
       "      <th>LandAverageTemperatureUncertainty</th>\n",
       "      <th>Unnamed: 7</th>\n",
       "      <th>Unnamed: 8</th>\n",
       "      <th>mean_temp</th>\n",
       "    </tr>\n",
       "  </thead>\n",
       "  <tbody>\n",
       "    <tr>\n",
       "      <th>3187</th>\n",
       "      <td>2015-08-01</td>\n",
       "      <td>2015</td>\n",
       "      <td>14.755</td>\n",
       "      <td>0.072</td>\n",
       "      <td>NaN</td>\n",
       "      <td>NaN</td>\n",
       "      <td>9.831</td>\n",
       "    </tr>\n",
       "    <tr>\n",
       "      <th>3188</th>\n",
       "      <td>2015-09-01</td>\n",
       "      <td>2015</td>\n",
       "      <td>12.999</td>\n",
       "      <td>0.079</td>\n",
       "      <td>NaN</td>\n",
       "      <td>NaN</td>\n",
       "      <td>9.831</td>\n",
       "    </tr>\n",
       "    <tr>\n",
       "      <th>3189</th>\n",
       "      <td>2015-10-01</td>\n",
       "      <td>2015</td>\n",
       "      <td>10.801</td>\n",
       "      <td>0.102</td>\n",
       "      <td>NaN</td>\n",
       "      <td>NaN</td>\n",
       "      <td>9.831</td>\n",
       "    </tr>\n",
       "    <tr>\n",
       "      <th>3190</th>\n",
       "      <td>2015-11-01</td>\n",
       "      <td>2015</td>\n",
       "      <td>7.433</td>\n",
       "      <td>0.119</td>\n",
       "      <td>NaN</td>\n",
       "      <td>NaN</td>\n",
       "      <td>9.831</td>\n",
       "    </tr>\n",
       "    <tr>\n",
       "      <th>3191</th>\n",
       "      <td>2015-12-01</td>\n",
       "      <td>2015</td>\n",
       "      <td>5.518</td>\n",
       "      <td>0.100</td>\n",
       "      <td>NaN</td>\n",
       "      <td>NaN</td>\n",
       "      <td>9.831</td>\n",
       "    </tr>\n",
       "  </tbody>\n",
       "</table>\n",
       "</div>"
      ],
      "text/plain": [
       "             dt  Year  LandAverageTemperature  \\\n",
       "3187 2015-08-01  2015                  14.755   \n",
       "3188 2015-09-01  2015                  12.999   \n",
       "3189 2015-10-01  2015                  10.801   \n",
       "3190 2015-11-01  2015                   7.433   \n",
       "3191 2015-12-01  2015                   5.518   \n",
       "\n",
       "      LandAverageTemperatureUncertainty Unnamed: 7  Unnamed: 8  mean_temp  \n",
       "3187                              0.072        NaN         NaN      9.831  \n",
       "3188                              0.079        NaN         NaN      9.831  \n",
       "3189                              0.102        NaN         NaN      9.831  \n",
       "3190                              0.119        NaN         NaN      9.831  \n",
       "3191                              0.100        NaN         NaN      9.831  "
      ]
     },
     "execution_count": 704,
     "metadata": {},
     "output_type": "execute_result"
    }
   ],
   "source": [
    "df_poll.head()\n",
    "df_temp.tail()"
   ]
  },
  {
   "cell_type": "markdown",
   "metadata": {},
   "source": [
    "Now I can merge the Global Temperature and CO2 Emmissions dataset! Yay!!"
   ]
  },
  {
   "cell_type": "code",
   "execution_count": 705,
   "metadata": {
    "collapsed": true
   },
   "outputs": [],
   "source": [
    "df=pd.merge(df_temp,df_poll,how='inner',on='dt')"
   ]
  },
  {
   "cell_type": "code",
   "execution_count": 706,
   "metadata": {},
   "outputs": [
    {
     "data": {
      "text/html": [
       "<div>\n",
       "<style>\n",
       "    .dataframe thead tr:only-child th {\n",
       "        text-align: right;\n",
       "    }\n",
       "\n",
       "    .dataframe thead th {\n",
       "        text-align: left;\n",
       "    }\n",
       "\n",
       "    .dataframe tbody tr th {\n",
       "        vertical-align: top;\n",
       "    }\n",
       "</style>\n",
       "<table border=\"1\" class=\"dataframe\">\n",
       "  <thead>\n",
       "    <tr style=\"text-align: right;\">\n",
       "      <th></th>\n",
       "      <th>dt</th>\n",
       "      <th>Year_x</th>\n",
       "      <th>LandAverageTemperature</th>\n",
       "      <th>LandAverageTemperatureUncertainty</th>\n",
       "      <th>Unnamed: 7</th>\n",
       "      <th>Unnamed: 8</th>\n",
       "      <th>mean_temp</th>\n",
       "      <th>Year_y</th>\n",
       "      <th>Month</th>\n",
       "      <th>Decimal Date</th>\n",
       "      <th>Carbon Dioxide (ppm)</th>\n",
       "      <th>Seasonally Adjusted CO2 (ppm)</th>\n",
       "      <th>Carbon Dioxide Fit (ppm)</th>\n",
       "      <th>Seasonally Adjusted CO2 Fit (ppm)</th>\n",
       "      <th>Emissions</th>\n",
       "      <th>meanEmissions</th>\n",
       "    </tr>\n",
       "  </thead>\n",
       "  <tbody>\n",
       "    <tr>\n",
       "      <th>0</th>\n",
       "      <td>1958-08-01</td>\n",
       "      <td>1958</td>\n",
       "      <td>13.597</td>\n",
       "      <td>0.082</td>\n",
       "      <td>NaN</td>\n",
       "      <td>NaN</td>\n",
       "      <td>8.773750</td>\n",
       "      <td>1958</td>\n",
       "      <td>08</td>\n",
       "      <td>1958.6219</td>\n",
       "      <td>314.93</td>\n",
       "      <td>316.17</td>\n",
       "      <td>314.01</td>\n",
       "      <td>315.29</td>\n",
       "      <td>315.29</td>\n",
       "      <td>315.229000</td>\n",
       "    </tr>\n",
       "    <tr>\n",
       "      <th>1</th>\n",
       "      <td>1959-08-01</td>\n",
       "      <td>1959</td>\n",
       "      <td>13.853</td>\n",
       "      <td>0.084</td>\n",
       "      <td>NaN</td>\n",
       "      <td>NaN</td>\n",
       "      <td>8.732667</td>\n",
       "      <td>1959</td>\n",
       "      <td>08</td>\n",
       "      <td>1959.6219</td>\n",
       "      <td>314.80</td>\n",
       "      <td>316.04</td>\n",
       "      <td>314.84</td>\n",
       "      <td>316.12</td>\n",
       "      <td>316.12</td>\n",
       "      <td>315.994167</td>\n",
       "    </tr>\n",
       "    <tr>\n",
       "      <th>2</th>\n",
       "      <td>1960-08-01</td>\n",
       "      <td>1960</td>\n",
       "      <td>13.825</td>\n",
       "      <td>0.079</td>\n",
       "      <td>NaN</td>\n",
       "      <td>NaN</td>\n",
       "      <td>8.583750</td>\n",
       "      <td>1960</td>\n",
       "      <td>08</td>\n",
       "      <td>1960.6230</td>\n",
       "      <td>315.90</td>\n",
       "      <td>317.18</td>\n",
       "      <td>315.71</td>\n",
       "      <td>317.01</td>\n",
       "      <td>317.01</td>\n",
       "      <td>316.905000</td>\n",
       "    </tr>\n",
       "    <tr>\n",
       "      <th>3</th>\n",
       "      <td>1961-08-01</td>\n",
       "      <td>1961</td>\n",
       "      <td>13.849</td>\n",
       "      <td>0.142</td>\n",
       "      <td>NaN</td>\n",
       "      <td>NaN</td>\n",
       "      <td>8.797667</td>\n",
       "      <td>1961</td>\n",
       "      <td>08</td>\n",
       "      <td>1961.6219</td>\n",
       "      <td>316.79</td>\n",
       "      <td>318.05</td>\n",
       "      <td>316.47</td>\n",
       "      <td>317.76</td>\n",
       "      <td>317.76</td>\n",
       "      <td>317.625000</td>\n",
       "    </tr>\n",
       "    <tr>\n",
       "      <th>4</th>\n",
       "      <td>1962-08-01</td>\n",
       "      <td>1962</td>\n",
       "      <td>13.713</td>\n",
       "      <td>0.103</td>\n",
       "      <td>NaN</td>\n",
       "      <td>NaN</td>\n",
       "      <td>8.745917</td>\n",
       "      <td>1962</td>\n",
       "      <td>08</td>\n",
       "      <td>1962.6219</td>\n",
       "      <td>317.40</td>\n",
       "      <td>318.66</td>\n",
       "      <td>317.26</td>\n",
       "      <td>318.55</td>\n",
       "      <td>318.55</td>\n",
       "      <td>318.450000</td>\n",
       "    </tr>\n",
       "  </tbody>\n",
       "</table>\n",
       "</div>"
      ],
      "text/plain": [
       "          dt  Year_x  LandAverageTemperature  \\\n",
       "0 1958-08-01    1958                  13.597   \n",
       "1 1959-08-01    1959                  13.853   \n",
       "2 1960-08-01    1960                  13.825   \n",
       "3 1961-08-01    1961                  13.849   \n",
       "4 1962-08-01    1962                  13.713   \n",
       "\n",
       "   LandAverageTemperatureUncertainty Unnamed: 7  Unnamed: 8  mean_temp Year_y  \\\n",
       "0                              0.082        NaN         NaN   8.773750   1958   \n",
       "1                              0.084        NaN         NaN   8.732667   1959   \n",
       "2                              0.079        NaN         NaN   8.583750   1960   \n",
       "3                              0.142        NaN         NaN   8.797667   1961   \n",
       "4                              0.103        NaN         NaN   8.745917   1962   \n",
       "\n",
       "  Month  Decimal Date  Carbon Dioxide (ppm)  Seasonally Adjusted CO2 (ppm)  \\\n",
       "0    08     1958.6219                314.93                         316.17   \n",
       "1    08     1959.6219                314.80                         316.04   \n",
       "2    08     1960.6230                315.90                         317.18   \n",
       "3    08     1961.6219                316.79                         318.05   \n",
       "4    08     1962.6219                317.40                         318.66   \n",
       "\n",
       "   Carbon Dioxide Fit (ppm)  Seasonally Adjusted CO2 Fit (ppm)  Emissions  \\\n",
       "0                    314.01                             315.29     315.29   \n",
       "1                    314.84                             316.12     316.12   \n",
       "2                    315.71                             317.01     317.01   \n",
       "3                    316.47                             317.76     317.76   \n",
       "4                    317.26                             318.55     318.55   \n",
       "\n",
       "   meanEmissions  \n",
       "0     315.229000  \n",
       "1     315.994167  \n",
       "2     316.905000  \n",
       "3     317.625000  \n",
       "4     318.450000  "
      ]
     },
     "execution_count": 706,
     "metadata": {},
     "output_type": "execute_result"
    }
   ],
   "source": [
    "df.head()"
   ]
  },
  {
   "cell_type": "code",
   "execution_count": 707,
   "metadata": {},
   "outputs": [
    {
     "data": {
      "text/html": [
       "<div>\n",
       "<style>\n",
       "    .dataframe thead tr:only-child th {\n",
       "        text-align: right;\n",
       "    }\n",
       "\n",
       "    .dataframe thead th {\n",
       "        text-align: left;\n",
       "    }\n",
       "\n",
       "    .dataframe tbody tr th {\n",
       "        vertical-align: top;\n",
       "    }\n",
       "</style>\n",
       "<table border=\"1\" class=\"dataframe\">\n",
       "  <thead>\n",
       "    <tr style=\"text-align: right;\">\n",
       "      <th></th>\n",
       "      <th>dt</th>\n",
       "      <th>Year_x</th>\n",
       "      <th>LandAverageTemperature</th>\n",
       "      <th>LandAverageTemperatureUncertainty</th>\n",
       "      <th>Unnamed: 7</th>\n",
       "      <th>Unnamed: 8</th>\n",
       "      <th>mean_temp</th>\n",
       "      <th>Year_y</th>\n",
       "      <th>Month</th>\n",
       "      <th>Decimal Date</th>\n",
       "      <th>Carbon Dioxide (ppm)</th>\n",
       "      <th>Seasonally Adjusted CO2 (ppm)</th>\n",
       "      <th>Carbon Dioxide Fit (ppm)</th>\n",
       "      <th>Seasonally Adjusted CO2 Fit (ppm)</th>\n",
       "      <th>Emissions</th>\n",
       "      <th>meanEmissions</th>\n",
       "    </tr>\n",
       "  </thead>\n",
       "  <tbody>\n",
       "    <tr>\n",
       "      <th>53</th>\n",
       "      <td>2011-08-01</td>\n",
       "      <td>2011</td>\n",
       "      <td>15.012</td>\n",
       "      <td>0.091</td>\n",
       "      <td>NaN</td>\n",
       "      <td>NaN</td>\n",
       "      <td>9.516000</td>\n",
       "      <td>2011</td>\n",
       "      <td>08</td>\n",
       "      <td>2011.6219</td>\n",
       "      <td>390.21</td>\n",
       "      <td>391.70</td>\n",
       "      <td>390.33</td>\n",
       "      <td>391.86</td>\n",
       "      <td>391.86</td>\n",
       "      <td>391.648333</td>\n",
       "    </tr>\n",
       "    <tr>\n",
       "      <th>54</th>\n",
       "      <td>2012-08-01</td>\n",
       "      <td>2012</td>\n",
       "      <td>14.720</td>\n",
       "      <td>0.069</td>\n",
       "      <td>NaN</td>\n",
       "      <td>NaN</td>\n",
       "      <td>9.507333</td>\n",
       "      <td>2012</td>\n",
       "      <td>08</td>\n",
       "      <td>2012.6230</td>\n",
       "      <td>392.54</td>\n",
       "      <td>394.06</td>\n",
       "      <td>392.64</td>\n",
       "      <td>394.20</td>\n",
       "      <td>394.20</td>\n",
       "      <td>393.904167</td>\n",
       "    </tr>\n",
       "    <tr>\n",
       "      <th>55</th>\n",
       "      <td>2013-08-01</td>\n",
       "      <td>2013</td>\n",
       "      <td>14.742</td>\n",
       "      <td>0.129</td>\n",
       "      <td>NaN</td>\n",
       "      <td>NaN</td>\n",
       "      <td>9.606500</td>\n",
       "      <td>2013</td>\n",
       "      <td>08</td>\n",
       "      <td>2013.6219</td>\n",
       "      <td>395.41</td>\n",
       "      <td>396.91</td>\n",
       "      <td>395.28</td>\n",
       "      <td>396.82</td>\n",
       "      <td>396.82</td>\n",
       "      <td>396.508333</td>\n",
       "    </tr>\n",
       "    <tr>\n",
       "      <th>56</th>\n",
       "      <td>2014-08-01</td>\n",
       "      <td>2014</td>\n",
       "      <td>14.875</td>\n",
       "      <td>0.115</td>\n",
       "      <td>NaN</td>\n",
       "      <td>NaN</td>\n",
       "      <td>9.570667</td>\n",
       "      <td>2014</td>\n",
       "      <td>08</td>\n",
       "      <td>2014.6219</td>\n",
       "      <td>397.21</td>\n",
       "      <td>398.72</td>\n",
       "      <td>397.29</td>\n",
       "      <td>398.83</td>\n",
       "      <td>398.83</td>\n",
       "      <td>398.600000</td>\n",
       "    </tr>\n",
       "    <tr>\n",
       "      <th>57</th>\n",
       "      <td>2015-08-01</td>\n",
       "      <td>2015</td>\n",
       "      <td>14.755</td>\n",
       "      <td>0.072</td>\n",
       "      <td>NaN</td>\n",
       "      <td>NaN</td>\n",
       "      <td>9.831000</td>\n",
       "      <td>2015</td>\n",
       "      <td>08</td>\n",
       "      <td>2015.6219</td>\n",
       "      <td>399.00</td>\n",
       "      <td>400.51</td>\n",
       "      <td>399.68</td>\n",
       "      <td>401.23</td>\n",
       "      <td>401.23</td>\n",
       "      <td>400.940833</td>\n",
       "    </tr>\n",
       "  </tbody>\n",
       "</table>\n",
       "</div>"
      ],
      "text/plain": [
       "           dt  Year_x  LandAverageTemperature  \\\n",
       "53 2011-08-01    2011                  15.012   \n",
       "54 2012-08-01    2012                  14.720   \n",
       "55 2013-08-01    2013                  14.742   \n",
       "56 2014-08-01    2014                  14.875   \n",
       "57 2015-08-01    2015                  14.755   \n",
       "\n",
       "    LandAverageTemperatureUncertainty Unnamed: 7  Unnamed: 8  mean_temp  \\\n",
       "53                              0.091        NaN         NaN   9.516000   \n",
       "54                              0.069        NaN         NaN   9.507333   \n",
       "55                              0.129        NaN         NaN   9.606500   \n",
       "56                              0.115        NaN         NaN   9.570667   \n",
       "57                              0.072        NaN         NaN   9.831000   \n",
       "\n",
       "   Year_y Month  Decimal Date  Carbon Dioxide (ppm)  \\\n",
       "53   2011    08     2011.6219                390.21   \n",
       "54   2012    08     2012.6230                392.54   \n",
       "55   2013    08     2013.6219                395.41   \n",
       "56   2014    08     2014.6219                397.21   \n",
       "57   2015    08     2015.6219                399.00   \n",
       "\n",
       "    Seasonally Adjusted CO2 (ppm)  Carbon Dioxide Fit (ppm)  \\\n",
       "53                         391.70                    390.33   \n",
       "54                         394.06                    392.64   \n",
       "55                         396.91                    395.28   \n",
       "56                         398.72                    397.29   \n",
       "57                         400.51                    399.68   \n",
       "\n",
       "    Seasonally Adjusted CO2 Fit (ppm)  Emissions  meanEmissions  \n",
       "53                             391.86     391.86     391.648333  \n",
       "54                             394.20     394.20     393.904167  \n",
       "55                             396.82     396.82     396.508333  \n",
       "56                             398.83     398.83     398.600000  \n",
       "57                             401.23     401.23     400.940833  "
      ]
     },
     "execution_count": 707,
     "metadata": {},
     "output_type": "execute_result"
    }
   ],
   "source": [
    "df.tail()"
   ]
  },
  {
   "cell_type": "code",
   "execution_count": 708,
   "metadata": {},
   "outputs": [
    {
     "data": {
      "text/html": [
       "<div>\n",
       "<style>\n",
       "    .dataframe thead tr:only-child th {\n",
       "        text-align: right;\n",
       "    }\n",
       "\n",
       "    .dataframe thead th {\n",
       "        text-align: left;\n",
       "    }\n",
       "\n",
       "    .dataframe tbody tr th {\n",
       "        vertical-align: top;\n",
       "    }\n",
       "</style>\n",
       "<table border=\"1\" class=\"dataframe\">\n",
       "  <thead>\n",
       "    <tr style=\"text-align: right;\">\n",
       "      <th></th>\n",
       "      <th>Year_x</th>\n",
       "      <th>LandAverageTemperature</th>\n",
       "      <th>LandAverageTemperatureUncertainty</th>\n",
       "      <th>Unnamed: 8</th>\n",
       "      <th>mean_temp</th>\n",
       "      <th>Decimal Date</th>\n",
       "      <th>Carbon Dioxide (ppm)</th>\n",
       "      <th>Seasonally Adjusted CO2 (ppm)</th>\n",
       "      <th>Carbon Dioxide Fit (ppm)</th>\n",
       "      <th>Seasonally Adjusted CO2 Fit (ppm)</th>\n",
       "      <th>Emissions</th>\n",
       "      <th>meanEmissions</th>\n",
       "    </tr>\n",
       "  </thead>\n",
       "  <tbody>\n",
       "    <tr>\n",
       "      <th>count</th>\n",
       "      <td>58.000000</td>\n",
       "      <td>58.000000</td>\n",
       "      <td>58.000000</td>\n",
       "      <td>0.0</td>\n",
       "      <td>58.000000</td>\n",
       "      <td>58.000000</td>\n",
       "      <td>58.000000</td>\n",
       "      <td>58.000000</td>\n",
       "      <td>58.000000</td>\n",
       "      <td>58.000000</td>\n",
       "      <td>58.000000</td>\n",
       "      <td>58.000000</td>\n",
       "    </tr>\n",
       "    <tr>\n",
       "      <th>mean</th>\n",
       "      <td>1986.500000</td>\n",
       "      <td>14.170862</td>\n",
       "      <td>0.096707</td>\n",
       "      <td>NaN</td>\n",
       "      <td>9.030378</td>\n",
       "      <td>1987.122166</td>\n",
       "      <td>349.805172</td>\n",
       "      <td>351.187759</td>\n",
       "      <td>349.735862</td>\n",
       "      <td>351.154483</td>\n",
       "      <td>351.154483</td>\n",
       "      <td>350.967124</td>\n",
       "    </tr>\n",
       "    <tr>\n",
       "      <th>std</th>\n",
       "      <td>16.886879</td>\n",
       "      <td>0.431542</td>\n",
       "      <td>0.035700</td>\n",
       "      <td>NaN</td>\n",
       "      <td>0.402281</td>\n",
       "      <td>16.886871</td>\n",
       "      <td>25.473800</td>\n",
       "      <td>25.553893</td>\n",
       "      <td>25.617476</td>\n",
       "      <td>25.699234</td>\n",
       "      <td>25.699234</td>\n",
       "      <td>25.649833</td>\n",
       "    </tr>\n",
       "    <tr>\n",
       "      <th>min</th>\n",
       "      <td>1958.000000</td>\n",
       "      <td>13.297000</td>\n",
       "      <td>0.050000</td>\n",
       "      <td>NaN</td>\n",
       "      <td>8.347250</td>\n",
       "      <td>1958.621900</td>\n",
       "      <td>314.800000</td>\n",
       "      <td>316.040000</td>\n",
       "      <td>314.010000</td>\n",
       "      <td>315.290000</td>\n",
       "      <td>315.290000</td>\n",
       "      <td>315.229000</td>\n",
       "    </tr>\n",
       "    <tr>\n",
       "      <th>25%</th>\n",
       "      <td>1972.250000</td>\n",
       "      <td>13.827000</td>\n",
       "      <td>0.074500</td>\n",
       "      <td>NaN</td>\n",
       "      <td>8.700292</td>\n",
       "      <td>1972.872725</td>\n",
       "      <td>327.067500</td>\n",
       "      <td>328.392500</td>\n",
       "      <td>326.890000</td>\n",
       "      <td>328.255000</td>\n",
       "      <td>328.255000</td>\n",
       "      <td>328.040000</td>\n",
       "    </tr>\n",
       "    <tr>\n",
       "      <th>50%</th>\n",
       "      <td>1986.500000</td>\n",
       "      <td>14.115000</td>\n",
       "      <td>0.087500</td>\n",
       "      <td>NaN</td>\n",
       "      <td>8.964292</td>\n",
       "      <td>1987.121900</td>\n",
       "      <td>347.000000</td>\n",
       "      <td>348.375000</td>\n",
       "      <td>346.880000</td>\n",
       "      <td>348.290000</td>\n",
       "      <td>348.290000</td>\n",
       "      <td>348.062083</td>\n",
       "    </tr>\n",
       "    <tr>\n",
       "      <th>75%</th>\n",
       "      <td>2000.750000</td>\n",
       "      <td>14.544500</td>\n",
       "      <td>0.108500</td>\n",
       "      <td>NaN</td>\n",
       "      <td>9.397708</td>\n",
       "      <td>2001.372175</td>\n",
       "      <td>369.192500</td>\n",
       "      <td>370.647500</td>\n",
       "      <td>369.315000</td>\n",
       "      <td>370.802500</td>\n",
       "      <td>370.802500</td>\n",
       "      <td>370.634792</td>\n",
       "    </tr>\n",
       "    <tr>\n",
       "      <th>max</th>\n",
       "      <td>2015.000000</td>\n",
       "      <td>15.012000</td>\n",
       "      <td>0.221000</td>\n",
       "      <td>NaN</td>\n",
       "      <td>9.831000</td>\n",
       "      <td>2015.621900</td>\n",
       "      <td>399.000000</td>\n",
       "      <td>400.510000</td>\n",
       "      <td>399.680000</td>\n",
       "      <td>401.230000</td>\n",
       "      <td>401.230000</td>\n",
       "      <td>400.940833</td>\n",
       "    </tr>\n",
       "  </tbody>\n",
       "</table>\n",
       "</div>"
      ],
      "text/plain": [
       "            Year_x  LandAverageTemperature  LandAverageTemperatureUncertainty  \\\n",
       "count    58.000000               58.000000                          58.000000   \n",
       "mean   1986.500000               14.170862                           0.096707   \n",
       "std      16.886879                0.431542                           0.035700   \n",
       "min    1958.000000               13.297000                           0.050000   \n",
       "25%    1972.250000               13.827000                           0.074500   \n",
       "50%    1986.500000               14.115000                           0.087500   \n",
       "75%    2000.750000               14.544500                           0.108500   \n",
       "max    2015.000000               15.012000                           0.221000   \n",
       "\n",
       "       Unnamed: 8  mean_temp  Decimal Date  Carbon Dioxide (ppm)  \\\n",
       "count         0.0  58.000000     58.000000             58.000000   \n",
       "mean          NaN   9.030378   1987.122166            349.805172   \n",
       "std           NaN   0.402281     16.886871             25.473800   \n",
       "min           NaN   8.347250   1958.621900            314.800000   \n",
       "25%           NaN   8.700292   1972.872725            327.067500   \n",
       "50%           NaN   8.964292   1987.121900            347.000000   \n",
       "75%           NaN   9.397708   2001.372175            369.192500   \n",
       "max           NaN   9.831000   2015.621900            399.000000   \n",
       "\n",
       "       Seasonally Adjusted CO2 (ppm)  Carbon Dioxide Fit (ppm)  \\\n",
       "count                      58.000000                 58.000000   \n",
       "mean                      351.187759                349.735862   \n",
       "std                        25.553893                 25.617476   \n",
       "min                       316.040000                314.010000   \n",
       "25%                       328.392500                326.890000   \n",
       "50%                       348.375000                346.880000   \n",
       "75%                       370.647500                369.315000   \n",
       "max                       400.510000                399.680000   \n",
       "\n",
       "       Seasonally Adjusted CO2 Fit (ppm)   Emissions  meanEmissions  \n",
       "count                          58.000000   58.000000      58.000000  \n",
       "mean                          351.154483  351.154483     350.967124  \n",
       "std                            25.699234   25.699234      25.649833  \n",
       "min                           315.290000  315.290000     315.229000  \n",
       "25%                           328.255000  328.255000     328.040000  \n",
       "50%                           348.290000  348.290000     348.062083  \n",
       "75%                           370.802500  370.802500     370.634792  \n",
       "max                           401.230000  401.230000     400.940833  "
      ]
     },
     "execution_count": 708,
     "metadata": {},
     "output_type": "execute_result"
    }
   ],
   "source": [
    "df.describe()"
   ]
  },
  {
   "cell_type": "markdown",
   "metadata": {},
   "source": [
    "Because we are only looking at one record per year, we now have 58\n",
    "rows for our dataset."
   ]
  },
  {
   "cell_type": "code",
   "execution_count": 709,
   "metadata": {},
   "outputs": [
    {
     "data": {
      "text/plain": [
       "(58, 16)"
      ]
     },
     "execution_count": 709,
     "metadata": {},
     "output_type": "execute_result"
    }
   ],
   "source": [
    "df.shape"
   ]
  },
  {
   "cell_type": "markdown",
   "metadata": {},
   "source": [
    "I now check to make sure there are no null values in either of the columns I want to include in the model."
   ]
  },
  {
   "cell_type": "code",
   "execution_count": 710,
   "metadata": {},
   "outputs": [
    {
     "data": {
      "text/plain": [
       "0"
      ]
     },
     "execution_count": 710,
     "metadata": {},
     "output_type": "execute_result"
    }
   ],
   "source": [
    "df['mean_temp'].isnull().sum()"
   ]
  },
  {
   "cell_type": "code",
   "execution_count": 711,
   "metadata": {},
   "outputs": [
    {
     "data": {
      "text/plain": [
       "0"
      ]
     },
     "execution_count": 711,
     "metadata": {},
     "output_type": "execute_result"
    }
   ],
   "source": [
    "df['meanEmissions'].isnull().sum()"
   ]
  },
  {
   "cell_type": "markdown",
   "metadata": {},
   "source": [
    "Looks like we are good to go and can create the model!! I first import Linear_Model\n",
    "from the sklearn package."
   ]
  },
  {
   "cell_type": "code",
   "execution_count": 712,
   "metadata": {
    "collapsed": true
   },
   "outputs": [],
   "source": [
    "from sklearn import linear_model"
   ]
  },
  {
   "cell_type": "markdown",
   "metadata": {},
   "source": [
    "Next, I want to create a train dataset to train the model on and a test dataset to test the model on. "
   ]
  },
  {
   "cell_type": "code",
   "execution_count": 713,
   "metadata": {
    "collapsed": true
   },
   "outputs": [],
   "source": [
    "train=df.sample(frac=7/10, random_state=1)\n",
    "test=df.drop(train.index)"
   ]
  },
  {
   "cell_type": "code",
   "execution_count": 714,
   "metadata": {},
   "outputs": [
    {
     "name": "stdout",
     "output_type": "stream",
     "text": [
      "(17, 16)\n",
      "(41, 16)\n"
     ]
    }
   ],
   "source": [
    "print(test.shape)\n",
    "print(train.shape)"
   ]
  },
  {
   "cell_type": "markdown",
   "metadata": {},
   "source": [
    "Time to get this model rolling!!"
   ]
  },
  {
   "cell_type": "code",
   "execution_count": 715,
   "metadata": {
    "collapsed": true
   },
   "outputs": [],
   "source": [
    "regression=linear_model.LinearRegression()"
   ]
  },
  {
   "cell_type": "markdown",
   "metadata": {},
   "source": [
    "My independent variable is the Seasonally Adjusted CO2 Fit (ppm). It is adjusted for season (as I'm sure you can tell haha). My dependent variable is of course \n",
    "the Average Land Temperature."
   ]
  },
  {
   "cell_type": "code",
   "execution_count": 716,
   "metadata": {
    "collapsed": true
   },
   "outputs": [],
   "source": [
    "train_X = np.asarray(train[['meanEmissions']])\n",
    "train_Y = np.asarray(train[['mean_temp']])\n",
    "\n",
    "test_X = np.asarray(test[['meanEmissions']])\n",
    "test_Y = np.asarray(test[['mean_temp']])"
   ]
  },
  {
   "cell_type": "markdown",
   "metadata": {},
   "source": [
    "Next, I fit the model to the train data."
   ]
  },
  {
   "cell_type": "code",
   "execution_count": 717,
   "metadata": {},
   "outputs": [
    {
     "data": {
      "text/plain": [
       "LinearRegression(copy_X=True, fit_intercept=True, n_jobs=1, normalize=False)"
      ]
     },
     "execution_count": 717,
     "metadata": {},
     "output_type": "execute_result"
    }
   ],
   "source": [
    "regression.fit(train_X,train_Y)"
   ]
  },
  {
   "cell_type": "markdown",
   "metadata": {},
   "source": [
    "Now, I check the values of the model. I check the intercept, the Beta Coefficient, \n",
    "and lastly the R-Squared value."
   ]
  },
  {
   "cell_type": "code",
   "execution_count": 718,
   "metadata": {},
   "outputs": [
    {
     "data": {
      "text/plain": [
       "array([ 3.79422536])"
      ]
     },
     "execution_count": 718,
     "metadata": {},
     "output_type": "execute_result"
    }
   ],
   "source": [
    "regression.intercept_"
   ]
  },
  {
   "cell_type": "code",
   "execution_count": 719,
   "metadata": {},
   "outputs": [
    {
     "data": {
      "text/plain": [
       "array([[ 0.01485564]])"
      ]
     },
     "execution_count": 719,
     "metadata": {},
     "output_type": "execute_result"
    }
   ],
   "source": [
    "regression.coef_"
   ]
  },
  {
   "cell_type": "code",
   "execution_count": 720,
   "metadata": {},
   "outputs": [
    {
     "data": {
      "text/plain": [
       "0.79126781343035968"
      ]
     },
     "execution_count": 720,
     "metadata": {},
     "output_type": "execute_result"
    }
   ],
   "source": [
    "regression.score(train_X,train_Y)"
   ]
  },
  {
   "cell_type": "markdown",
   "metadata": {},
   "source": [
    "CO2 Emissions describe a 79% of the variation in the Average Land Temperature data! Now, I will use the model to predict the Average Land Temperature\n",
    "given the CO2 Emissions in the Test Dataset."
   ]
  },
  {
   "cell_type": "code",
   "execution_count": 721,
   "metadata": {
    "collapsed": true
   },
   "outputs": [],
   "source": [
    "test['predict']=regression.predict(test_X)"
   ]
  },
  {
   "cell_type": "markdown",
   "metadata": {},
   "source": [
    "Then, I plot the predicted values against the actual values."
   ]
  },
  {
   "cell_type": "code",
   "execution_count": 722,
   "metadata": {},
   "outputs": [
    {
     "data": {
      "image/png": "[encoded data removed]",
      "text/plain": [
       "<matplotlib.figure.Figure at 0x7f06826b0710>"
      ]
     },
     "metadata": {},
     "output_type": "display_data"
    }
   ],
   "source": [
    "plt.scatter(test['mean_temp'],test['predict'])\n",
    "plt.xlabel(\"Actual Values\")\n",
    "plt.ylabel(\"Predicted Values\")\n",
    "plt.show()"
   ]
  },
  {
   "cell_type": "markdown",
   "metadata": {},
   "source": [
    "The R-Squared Value when applyng the model to the Test Data is 82%!"
   ]
  },
  {
   "cell_type": "code",
   "execution_count": 723,
   "metadata": {},
   "outputs": [
    {
     "data": {
      "text/plain": [
       "0.81939377281367332"
      ]
     },
     "execution_count": 723,
     "metadata": {},
     "output_type": "execute_result"
    }
   ],
   "source": [
    "regression.score(test_X,test_Y)"
   ]
  },
  {
   "cell_type": "code",
   "execution_count": 724,
   "metadata": {},
   "outputs": [
    {
     "data": {
      "text/plain": [
       "0.02939802279575781"
      ]
     },
     "execution_count": 724,
     "metadata": {},
     "output_type": "execute_result"
    }
   ],
   "source": [
    "from sklearn.metrics import mean_squared_error\n",
    "mean_squared_error(test_Y,test['predict'])"
   ]
  },
  {
   "cell_type": "markdown",
   "metadata": {},
   "source": [
    "## Visuals "
   ]
  },
  {
   "cell_type": "code",
   "execution_count": 725,
   "metadata": {
    "scrolled": true
   },
   "outputs": [
    {
     "data": {
      "image/png": "[encoded data removed]",
      "text/plain": [
       "<matplotlib.figure.Figure at 0x7f068260b390>"
      ]
     },
     "metadata": {},
     "output_type": "display_data"
    }
   ],
   "source": [
    "plt.scatter(df['Decimal Date'],df['mean_temp'])\n",
    "plt.xlabel(\"Year\")\n",
    "plt.title(\"Average Temperature Through Time\")\n",
    "plt.ylabel(\"Average Land Temperature\")\n",
    "plt.show()"
   ]
  },
  {
   "cell_type": "code",
   "execution_count": 726,
   "metadata": {
    "scrolled": false
   },
   "outputs": [
    {
     "data": {
      "image/png": "[encoded data removed]",
      "text/plain": [
       "<matplotlib.figure.Figure at 0x7f06827100f0>"
      ]
     },
     "metadata": {},
     "output_type": "display_data"
    }
   ],
   "source": [
    "plt.scatter(df['Decimal Date'],df['meanEmissions'])\n",
    "plt.xlabel(\"Year\")\n",
    "plt.title(\"CO2 Emissions Through Time\")\n",
    "plt.ylabel(\"Average CO2 Emissions (ppm)\")\n",
    "plt.show()"
   ]
  },
  {
   "cell_type": "code",
   "execution_count": 770,
   "metadata": {
    "scrolled": true
   },
   "outputs": [
    {
     "data": {
      "image/png": "[encoded data removed]",
      "text/plain": [
       "<matplotlib.figure.Figure at 0x7f068257e940>"
      ]
     },
     "metadata": {},
     "output_type": "display_data"
    }
   ],
   "source": [
    "plt.scatter(df['meanEmissions'],df['mean_temp'])\n",
    "plt.xlabel(\"Average CO2 Emissions(ppm)\")\n",
    "plt.title(\"Relationship Between CO2 Emissions and Temperature\")\n",
    "plt.ylabel(\"Average Land Temperature(degrees Celsius)\")\n",
    "plt.show()"
   ]
  },
  {
   "cell_type": "code",
   "execution_count": 728,
   "metadata": {},
   "outputs": [
    {
     "data": {
      "image/png": "[encoded data removed]",
      "text/plain": [
       "<matplotlib.figure.Figure at 0x7f068255b5f8>"
      ]
     },
     "metadata": {},
     "output_type": "display_data"
    }
   ],
   "source": [
    "plt.scatter(test_X,test_Y)\n",
    "plt.xlabel(\"Average CO2 Emissions(ppm)\")\n",
    "plt.ylabel(\"Average Land Temperature(degrees Celsius)\")\n",
    "plt.title(\"Test Data Set\")\n",
    "plt.plot(test_X, test.predict, color='blue', linewidth=3)\n",
    "plt.show()"
   ]
  },
  {
   "cell_type": "markdown",
   "metadata": {},
   "source": [
    "So, this is all interesting, but do we really think CO2 Emissions affect temperature immediately? To me, it seems like it would take time \n",
    "for emissions to affect temperature. I now decide to do the same analysis, but by seeing the affect of CO2 Emissions from one year \n",
    "on the temperature 8 years later. I recombine the pollution and temperature datasets, but this time the data in the pollution columns was technically collected 5 years before the data in the temperature columns. "
   ]
  },
  {
   "cell_type": "markdown",
   "metadata": {},
   "source": [
    "## Analysis Part 2"
   ]
  },
  {
   "cell_type": "code",
   "execution_count": 763,
   "metadata": {},
   "outputs": [
    {
     "name": "stdout",
     "output_type": "stream",
     "text": [
      "    Year Month  Decimal Date  Carbon Dioxide (ppm)  \\\n",
      "7   1963    08     1958.6219                314.93   \n",
      "19  1964    08     1959.6219                314.80   \n",
      "31  1965    08     1960.6230                315.90   \n",
      "43  1966    08     1961.6219                316.79   \n",
      "55  1967    08     1962.6219                317.40   \n",
      "\n",
      "    Seasonally Adjusted CO2 (ppm)  Carbon Dioxide Fit (ppm)  \\\n",
      "7                          316.17                    314.01   \n",
      "19                         316.04                    314.84   \n",
      "31                         317.18                    315.71   \n",
      "43                         318.05                    316.47   \n",
      "55                         318.66                    317.26   \n",
      "\n",
      "    Seasonally Adjusted CO2 Fit (ppm)         dt  \n",
      "7                              315.29 1963-08-01  \n",
      "19                             316.12 1964-08-01  \n",
      "31                             317.01 1965-08-01  \n",
      "43                             317.76 1966-08-01  \n",
      "55                             318.55 1967-08-01  \n"
     ]
    },
    {
     "data": {
      "text/html": [
       "<div>\n",
       "<style>\n",
       "    .dataframe thead tr:only-child th {\n",
       "        text-align: right;\n",
       "    }\n",
       "\n",
       "    .dataframe thead th {\n",
       "        text-align: left;\n",
       "    }\n",
       "\n",
       "    .dataframe tbody tr th {\n",
       "        vertical-align: top;\n",
       "    }\n",
       "</style>\n",
       "<table border=\"1\" class=\"dataframe\">\n",
       "  <thead>\n",
       "    <tr style=\"text-align: right;\">\n",
       "      <th></th>\n",
       "      <th>dt</th>\n",
       "      <th>Year_x</th>\n",
       "      <th>LandAverageTemperature</th>\n",
       "      <th>LandAverageTemperatureUncertainty</th>\n",
       "      <th>Unnamed: 7</th>\n",
       "      <th>Unnamed: 8</th>\n",
       "      <th>mean_temp</th>\n",
       "      <th>Year_y</th>\n",
       "      <th>Month</th>\n",
       "      <th>Decimal Date</th>\n",
       "      <th>Carbon Dioxide (ppm)</th>\n",
       "      <th>Seasonally Adjusted CO2 (ppm)</th>\n",
       "      <th>Carbon Dioxide Fit (ppm)</th>\n",
       "      <th>Seasonally Adjusted CO2 Fit (ppm)</th>\n",
       "      <th>Emissions</th>\n",
       "      <th>meanEmissions</th>\n",
       "    </tr>\n",
       "  </thead>\n",
       "  <tbody>\n",
       "    <tr>\n",
       "      <th>0</th>\n",
       "      <td>1963-08-01</td>\n",
       "      <td>1963</td>\n",
       "      <td>14.309</td>\n",
       "      <td>0.061</td>\n",
       "      <td>NaN</td>\n",
       "      <td>NaN</td>\n",
       "      <td>8.856000</td>\n",
       "      <td>1963</td>\n",
       "      <td>08</td>\n",
       "      <td>1958.6219</td>\n",
       "      <td>314.93</td>\n",
       "      <td>316.17</td>\n",
       "      <td>314.01</td>\n",
       "      <td>315.29</td>\n",
       "      <td>315.29</td>\n",
       "      <td>315.29</td>\n",
       "    </tr>\n",
       "    <tr>\n",
       "      <th>1</th>\n",
       "      <td>1964-08-01</td>\n",
       "      <td>1964</td>\n",
       "      <td>13.678</td>\n",
       "      <td>0.178</td>\n",
       "      <td>NaN</td>\n",
       "      <td>NaN</td>\n",
       "      <td>8.409667</td>\n",
       "      <td>1964</td>\n",
       "      <td>08</td>\n",
       "      <td>1959.6219</td>\n",
       "      <td>314.80</td>\n",
       "      <td>316.04</td>\n",
       "      <td>314.84</td>\n",
       "      <td>316.12</td>\n",
       "      <td>316.12</td>\n",
       "      <td>316.12</td>\n",
       "    </tr>\n",
       "    <tr>\n",
       "      <th>2</th>\n",
       "      <td>1965-08-01</td>\n",
       "      <td>1965</td>\n",
       "      <td>13.807</td>\n",
       "      <td>0.086</td>\n",
       "      <td>NaN</td>\n",
       "      <td>NaN</td>\n",
       "      <td>8.527417</td>\n",
       "      <td>1965</td>\n",
       "      <td>08</td>\n",
       "      <td>1960.6230</td>\n",
       "      <td>315.90</td>\n",
       "      <td>317.18</td>\n",
       "      <td>315.71</td>\n",
       "      <td>317.01</td>\n",
       "      <td>317.01</td>\n",
       "      <td>317.01</td>\n",
       "    </tr>\n",
       "    <tr>\n",
       "      <th>3</th>\n",
       "      <td>1966-08-01</td>\n",
       "      <td>1966</td>\n",
       "      <td>13.731</td>\n",
       "      <td>0.101</td>\n",
       "      <td>NaN</td>\n",
       "      <td>NaN</td>\n",
       "      <td>8.599333</td>\n",
       "      <td>1966</td>\n",
       "      <td>08</td>\n",
       "      <td>1961.6219</td>\n",
       "      <td>316.79</td>\n",
       "      <td>318.05</td>\n",
       "      <td>316.47</td>\n",
       "      <td>317.76</td>\n",
       "      <td>317.76</td>\n",
       "      <td>317.76</td>\n",
       "    </tr>\n",
       "    <tr>\n",
       "      <th>4</th>\n",
       "      <td>1967-08-01</td>\n",
       "      <td>1967</td>\n",
       "      <td>13.821</td>\n",
       "      <td>0.107</td>\n",
       "      <td>NaN</td>\n",
       "      <td>NaN</td>\n",
       "      <td>8.700083</td>\n",
       "      <td>1967</td>\n",
       "      <td>08</td>\n",
       "      <td>1962.6219</td>\n",
       "      <td>317.40</td>\n",
       "      <td>318.66</td>\n",
       "      <td>317.26</td>\n",
       "      <td>318.55</td>\n",
       "      <td>318.55</td>\n",
       "      <td>318.55</td>\n",
       "    </tr>\n",
       "  </tbody>\n",
       "</table>\n",
       "</div>"
      ],
      "text/plain": [
       "          dt  Year_x  LandAverageTemperature  \\\n",
       "0 1963-08-01    1963                  14.309   \n",
       "1 1964-08-01    1964                  13.678   \n",
       "2 1965-08-01    1965                  13.807   \n",
       "3 1966-08-01    1966                  13.731   \n",
       "4 1967-08-01    1967                  13.821   \n",
       "\n",
       "   LandAverageTemperatureUncertainty Unnamed: 7  Unnamed: 8  mean_temp Year_y  \\\n",
       "0                              0.061        NaN         NaN   8.856000   1963   \n",
       "1                              0.178        NaN         NaN   8.409667   1964   \n",
       "2                              0.086        NaN         NaN   8.527417   1965   \n",
       "3                              0.101        NaN         NaN   8.599333   1966   \n",
       "4                              0.107        NaN         NaN   8.700083   1967   \n",
       "\n",
       "  Month  Decimal Date  Carbon Dioxide (ppm)  Seasonally Adjusted CO2 (ppm)  \\\n",
       "0    08     1958.6219                314.93                         316.17   \n",
       "1    08     1959.6219                314.80                         316.04   \n",
       "2    08     1960.6230                315.90                         317.18   \n",
       "3    08     1961.6219                316.79                         318.05   \n",
       "4    08     1962.6219                317.40                         318.66   \n",
       "\n",
       "   Carbon Dioxide Fit (ppm)  Seasonally Adjusted CO2 Fit (ppm)  Emissions  \\\n",
       "0                    314.01                             315.29     315.29   \n",
       "1                    314.84                             316.12     316.12   \n",
       "2                    315.71                             317.01     317.01   \n",
       "3                    316.47                             317.76     317.76   \n",
       "4                    317.26                             318.55     318.55   \n",
       "\n",
       "   meanEmissions  \n",
       "0         315.29  \n",
       "1         316.12  \n",
       "2         317.01  \n",
       "3         317.76  \n",
       "4         318.55  "
      ]
     },
     "execution_count": 763,
     "metadata": {},
     "output_type": "execute_result"
    }
   ],
   "source": [
    "with open('../../../datasets/TempData/archive.csv') as file:\n",
    "    df_poll=pd.read_csv(file)\n",
    "\n",
    "\n",
    "df_poll['Year']=df_poll['Year']+5\n",
    "\n",
    "\n",
    "new_list=[]\n",
    "for i in df_poll.Month:\n",
    "    new_list.append(\"{:02}\".format(i))\n",
    "        \n",
    "df_poll.Month=new_list\n",
    "\n",
    "\n",
    "df_poll=df_poll[df_poll['Month']=='08']\n",
    "\n",
    "\n",
    "df_poll['Year']=df_poll.Year.astype(str)\n",
    "df_poll['Month']=df_poll.Month.astype(str)\n",
    "\n",
    "df_poll['dt']=df_poll['Year']+'-'+df_poll['Month']+'-'+'01'\n",
    "df_poll['dt']=pd.to_datetime(df_poll['dt'])\n",
    "print(df_poll.head())\n",
    "\n",
    "\n",
    "df_poll['Emissions']=df_poll['Seasonally Adjusted CO2 Fit (ppm)']\n",
    "df_poll['meanEmissions'] = df_poll.groupby('Year').Emissions.transform(np.mean)\n",
    "\n",
    "df=pd.merge(df_temp,df_poll,how='inner',on='dt')\n",
    "df.head()"
   ]
  },
  {
   "cell_type": "markdown",
   "metadata": {},
   "source": [
    "I check to make sure the analysis variables have no null values."
   ]
  },
  {
   "cell_type": "code",
   "execution_count": 764,
   "metadata": {},
   "outputs": [
    {
     "name": "stdout",
     "output_type": "stream",
     "text": [
      "0\n"
     ]
    },
    {
     "data": {
      "text/plain": [
       "0"
      ]
     },
     "execution_count": 764,
     "metadata": {},
     "output_type": "execute_result"
    }
   ],
   "source": [
    "print(df['mean_temp'].isnull().sum())\n",
    "df['meanEmissions'].isnull().sum()"
   ]
  },
  {
   "cell_type": "markdown",
   "metadata": {},
   "source": [
    "I then create the train and test sets and fit the regression model."
   ]
  },
  {
   "cell_type": "code",
   "execution_count": 765,
   "metadata": {},
   "outputs": [
    {
     "name": "stdout",
     "output_type": "stream",
     "text": [
      "(16, 16)\n",
      "(37, 16)\n"
     ]
    },
    {
     "data": {
      "text/plain": [
       "LinearRegression(copy_X=True, fit_intercept=True, n_jobs=1, normalize=False)"
      ]
     },
     "execution_count": 765,
     "metadata": {},
     "output_type": "execute_result"
    }
   ],
   "source": [
    "train=df.sample(frac=7/10, random_state=1)\n",
    "test=df.drop(train.index)\n",
    "print(test.shape)\n",
    "print(train.shape)\n",
    "\n",
    "regression=linear_model.LinearRegression()\n",
    "\n",
    "train_X = np.asarray(train[['meanEmissions']])\n",
    "train_Y = np.asarray(train[['mean_temp']])\n",
    "\n",
    "test_X = np.asarray(test[['meanEmissions']])\n",
    "test_Y = np.asarray(test[['mean_temp']])\n",
    "\n",
    "regression.fit(train_X,train_Y)"
   ]
  },
  {
   "cell_type": "code",
   "execution_count": 766,
   "metadata": {},
   "outputs": [
    {
     "name": "stdout",
     "output_type": "stream",
     "text": [
      "Intercept:\n",
      "[ 3.37771242]\n",
      "Coefficient:\n",
      "[[ 0.01639006]]\n",
      "R-Squared:\n",
      "0.774229773199\n"
     ]
    }
   ],
   "source": [
    "print (\"Intercept:\")\n",
    "print(regression.intercept_)\n",
    "print (\"Coefficient:\")\n",
    "print(regression.coef_)\n",
    "print (\"R-Squared:\")\n",
    "print(regression.score(train_X,train_Y))\n",
    "\n"
   ]
  },
  {
   "cell_type": "markdown",
   "metadata": {},
   "source": [
    "I then test the model on the test data set. Interestingly, the CO2 Emissions describe about 77% of the variation in the Average Land Temperatures data 5 years later. The R-Squared value of this model on the Test Set is also 0.85."
   ]
  },
  {
   "cell_type": "code",
   "execution_count": 767,
   "metadata": {},
   "outputs": [
    {
     "data": {
      "image/png": "[encoded data removed]",
      "text/plain": [
       "<matplotlib.figure.Figure at 0x7f0682560c88>"
      ]
     },
     "metadata": {},
     "output_type": "display_data"
    },
    {
     "name": "stdout",
     "output_type": "stream",
     "text": [
      "R-Squared for Test Set:\n",
      "0.849885414016\n"
     ]
    }
   ],
   "source": [
    "test['predict']=regression.predict(test_X)\n",
    "plt.scatter(test['mean_temp'],test['predict'])\n",
    "plt.xlabel(\"Actual Values\")\n",
    "plt.ylabel(\"Predicted Values\")\n",
    "plt.show()\n",
    "print(\"R-Squared for Test Set:\")\n",
    "print(regression.score(test_X,test_Y))"
   ]
  },
  {
   "cell_type": "code",
   "execution_count": 768,
   "metadata": {},
   "outputs": [
    {
     "name": "stdout",
     "output_type": "stream",
     "text": [
      "Mean Squared Error:\n"
     ]
    },
    {
     "data": {
      "text/plain": [
       "0.019587256421169322"
      ]
     },
     "execution_count": 768,
     "metadata": {},
     "output_type": "execute_result"
    }
   ],
   "source": [
    "print(\"Mean Squared Error:\")\n",
    "from sklearn.metrics import mean_squared_error\n",
    "mean_squared_error(test_Y,test['predict'])"
   ]
  },
  {
   "cell_type": "markdown",
   "metadata": {},
   "source": [
    "There is a slightly lower MSE for the model when utilizing the CO2 Emissions from 5 Years Prior."
   ]
  },
  {
   "cell_type": "markdown",
   "metadata": {},
   "source": [
    "##  Visuals "
   ]
  },
  {
   "cell_type": "code",
   "execution_count": 769,
   "metadata": {},
   "outputs": [
    {
     "data": {
      "image/png": "[encoded data removed]",
      "text/plain": [
       "<matplotlib.figure.Figure at 0x7f068267dbe0>"
      ]
     },
     "metadata": {},
     "output_type": "display_data"
    }
   ],
   "source": [
    "plt.scatter(test_X,test_Y)\n",
    "plt.xlabel(\"Average CO2 Emissions(ppm) 5 Years Prior\")\n",
    "plt.ylabel(\"Average Land Temperature(degrees Celsius)\")\n",
    "plt.title(\"Test Data Set\")\n",
    "plt.plot(test_X, test.predict, color='blue', linewidth=3)\n",
    "plt.show()"
   ]
  },
  {
   "cell_type": "markdown",
   "metadata": {},
   "source": [
    "# Conclusions"
   ]
  },
  {
   "cell_type": "markdown",
   "metadata": {
    "collapsed": true
   },
   "source": [
    "It is clear that there is a significant relationship between CO2 Emissions and Land Temperature. For a CO2 Emission  increase of 1 ppm, there  is \n",
    "a 0.02 degrees Celsius increase in Average Land Temperature 5 Years later. Before you leave the house, remember to turn the lights off! 30 years later,\n",
    "you might be thanking youself in the heat of the summer. \n",
    "\n",
    "This analysis could be improved with more data. Unfortunately, the analysis was limited to 58 rows due to the fact that CO2 Emissions\n",
    "have only been collected since 1958. Collecting more data on CO2 Emissions could result in a more accurate model.\n",
    "\n",
    "The analysis could also be improved by adding more greenhouse gases, such as methane or nitrous oxide, as independent variables. It would be interesting to see if one\n",
    "greenhouse gas had a stronger relationship with temperature."
   ]
  },
  {
   "cell_type": "code",
   "execution_count": null,
   "metadata": {
    "collapsed": true
   },
   "outputs": [],
   "source": []
  }
 ],
 "metadata": {
  "kernelspec": {
   "display_name": "Python 3",
   "language": "python",
   "name": "python3"
  },
  "language_info": {
   "codemirror_mode": {
    "name": "ipython",
    "version": 3
   },
   "file_extension": ".py",
   "mimetype": "text/x-python",
   "name": "python",
   "nbconvert_exporter": "python",
   "pygments_lexer": "ipython3",
   "version": "3.6.1"
  }
 },
 "nbformat": 4,
 "nbformat_minor": 1
}
